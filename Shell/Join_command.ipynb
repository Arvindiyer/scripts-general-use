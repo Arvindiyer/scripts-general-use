{
 "cells": [
  {
   "cell_type": "markdown",
   "metadata": {},
   "source": [
    "#### linux commands are very powerful.  \n",
    "They are small and can do small things well.  \n",
    "Today, I am going to demonstrate a very useful linux command `join`.  \n",
    "`join` is used to join two files based on a common \"ID\" column.  \n",
    "This is a common task when you have information stored in two files  \n",
    "and have a common column to link them together. \n",
    "\n",
    "I first created two dummy tab delimited files: A.txt and B.txt  \n",
    "Let's have a look at the files:"
   ]
  },
  {
   "cell_type": "code",
   "execution_count": 1,
   "metadata": {
    "collapsed": false
   },
   "outputs": [
    {
     "name": "stdout",
     "output_type": "stream",
     "text": [
      "Jack\tTX\t5\r\n",
      "John\tCA\t3\r\n",
      "Luke\tWA\t4\r\n",
      "Tammy\tFL\t2\r\n",
      "Tommy\tFL\t1\r\n"
     ]
    }
   ],
   "source": [
    "cat A.txt"
   ]
  },
  {
   "cell_type": "code",
   "execution_count": 2,
   "metadata": {
    "collapsed": false
   },
   "outputs": [
    {
     "name": "stdout",
     "output_type": "stream",
     "text": [
      "1\t450\r\n",
      "2\t300\r\n",
      "3\t400\r\n",
      "5\t150\r\n",
      "6\t600\r\n"
     ]
    }
   ],
   "source": [
    "cat B.txt"
   ]
  },
  {
   "cell_type": "markdown",
   "metadata": {},
   "source": [
    "column 3 in file A and column 1 in file B are common IDs that link these two files together.   \n",
    "Let's do an **inner join**:"
   ]
  },
  {
   "cell_type": "code",
   "execution_count": 3,
   "metadata": {
    "collapsed": false
   },
   "outputs": [
    {
     "name": "stdout",
     "output_type": "stream",
     "text": [
      "5 Jack TX 150\r\n"
     ]
    }
   ],
   "source": [
    "join -1 3 -2 1 A.txt B.txt"
   ]
  },
  {
   "cell_type": "markdown",
   "metadata": {},
   "source": [
    "-1 means file 1, which is A file. 3 means the third column.  \n",
    "-2 means file 2, which is B file. 1 means the first column.  \n",
    "The output is not we expected. A file and B file should have 4\n",
    "rows linked together.  \n",
    "**It turns out files need to be sorted first according to the common  \n",
    "field for join to work.**  Let's sort them first and join them:  "
   ]
  },
  {
   "cell_type": "code",
   "execution_count": 4,
   "metadata": {
    "collapsed": false
   },
   "outputs": [
    {
     "name": "stdout",
     "output_type": "stream",
     "text": [
      "1 Tommy FL 450\r\n",
      "2 Tammy FL 300\r\n",
      "3 John CA 400\r\n",
      "5 Jack TX 150\r\n"
     ]
    }
   ],
   "source": [
    "sort -k3,3 A.txt > A.sorted.txt\n",
    "sort -k1,1 B.txt > B.sorted.txt\n",
    "join -1 3 -2 1 A.sorted.txt B.sorted.txt"
   ]
  },
  {
   "cell_type": "markdown",
   "metadata": {},
   "source": [
    "we can also do **right outer join** (-a 1) :  "
   ]
  },
  {
   "cell_type": "code",
   "execution_count": 5,
   "metadata": {
    "collapsed": false
   },
   "outputs": [
    {
     "name": "stdout",
     "output_type": "stream",
     "text": [
      "1 Tommy FL 450\r\n",
      "2 Tammy FL 300\r\n",
      "3 John CA 400\r\n",
      "Luke WA 4\r\n",
      "5 Jack TX 150\r\n"
     ]
    }
   ],
   "source": [
    "join -1 3 -2 1 -a 1 A.sorted.txt B.sorted.txt"
   ]
  },
  {
   "cell_type": "markdown",
   "metadata": {},
   "source": [
    "The default input seprator is space or tab, and output seprator is space.  \n",
    "**we can change the output seprator to tab:**  "
   ]
  },
  {
   "cell_type": "code",
   "execution_count": 6,
   "metadata": {
    "collapsed": false
   },
   "outputs": [
    {
     "name": "stdout",
     "output_type": "stream",
     "text": [
      "1\tTommy\tFL\t450\r\n",
      "2\tTammy\tFL\t300\r\n",
      "3\tJohn\tCA\t400\r\n",
      "4\tLuke\tWA\t\r\n",
      "5\tJack\tTX\t150\r\n"
     ]
    }
   ],
   "source": [
    "gjoin -t$'\\t' -1 3 -2 1 -a 1 -o auto A.sorted.txt B.sorted.txt"
   ]
  },
  {
   "cell_type": "markdown",
   "metadata": {},
   "source": [
    "Let's do a **left outer join** (-a 2) and fill the empty field with NA.  \n",
    "**Note that only GNU join has the auto flag.**"
   ]
  },
  {
   "cell_type": "code",
   "execution_count": 7,
   "metadata": {
    "collapsed": false
   },
   "outputs": [
    {
     "name": "stdout",
     "output_type": "stream",
     "text": [
      "1\tTommy\tFL\t450\r\n",
      "2\tTammy\tFL\t300\r\n",
      "3\tJohn\tCA\t400\r\n",
      "5\tJack\tTX\t150\r\n",
      "6\tNA\tNA\t600\r\n"
     ]
    }
   ],
   "source": [
    "gjoin -t$'\\t' -e \"NA\" -1 3 -2 1 -a 2 -o auto A.sorted.txt B.sorted.txt"
   ]
  },
  {
   "cell_type": "markdown",
   "metadata": {},
   "source": [
    "You may think the intermediate sorted file is annoying. One can avoid them using  \n",
    "[process substitution](http://vincebuffalo.org/2013/08/08/the-mighty-named-pipe.html):  "
   ]
  },
  {
   "cell_type": "code",
   "execution_count": 8,
   "metadata": {
    "collapsed": false
   },
   "outputs": [
    {
     "name": "stdout",
     "output_type": "stream",
     "text": [
      "1\tTommy\tFL\t450\r\n",
      "2\tTammy\tFL\t300\r\n",
      "3\tJohn\tCA\t400\r\n",
      "5\tJack\tTX\t150\r\n"
     ]
    }
   ],
   "source": [
    "join -1 3 -2 1 -t $'\\t' <(sort -k3,3 A.txt) <(sort -k1,1 B.txt)"
   ]
  },
  {
   "cell_type": "markdown",
   "metadata": {},
   "source": [
    "Wow! It is so magic! Using process substitution can speed up your workflow.  "
   ]
  },
  {
   "cell_type": "markdown",
   "metadata": {},
   "source": [
    "So far, the files we have are without headers. **What if they contain headers?**  \n",
    "Let's make some dummy files first:  "
   ]
  },
  {
   "cell_type": "code",
   "execution_count": 9,
   "metadata": {
    "collapsed": false
   },
   "outputs": [
    {
     "name": "stdout",
     "output_type": "stream",
     "text": []
    }
   ],
   "source": [
    "printf \"name\\tstate\\tid\\n\" | cat - A.txt > A_header.txt\n",
    "printf \"id\\tsalary\\n\" | cat - B.txt > B_header.txt"
   ]
  },
  {
   "cell_type": "code",
   "execution_count": 10,
   "metadata": {
    "collapsed": false
   },
   "outputs": [
    {
     "name": "stdout",
     "output_type": "stream",
     "text": [
      "name\tstate\tid\r\n",
      "Jack\tTX\t5\r\n",
      "John\tCA\t3\r\n",
      "Luke\tWA\t4\r\n",
      "Tammy\tFL\t2\r\n",
      "Tommy\tFL\t1\r\n"
     ]
    }
   ],
   "source": [
    "cat A_header.txt"
   ]
  },
  {
   "cell_type": "code",
   "execution_count": 11,
   "metadata": {
    "collapsed": false
   },
   "outputs": [
    {
     "name": "stdout",
     "output_type": "stream",
     "text": [
      "id\tsalary\r\n",
      "1\t450\r\n",
      "2\t300\r\n",
      "3\t400\r\n",
      "5\t150\r\n",
      "6\t600\r\n"
     ]
    }
   ],
   "source": [
    "cat B_header.txt"
   ]
  },
  {
   "cell_type": "markdown",
   "metadata": {},
   "source": [
    "Let's join them together:"
   ]
  },
  {
   "cell_type": "code",
   "execution_count": 12,
   "metadata": {
    "collapsed": false
   },
   "outputs": [
    {
     "name": "stdout",
     "output_type": "stream",
     "text": [
      "1\tTommy\tFL\t450\r\n",
      "2\tTammy\tFL\t300\r\n",
      "3\tJohn\tCA\t400\r\n",
      "5\tJack\tTX\t150\r\n",
      "id\tname\tstate\tsalary\r\n"
     ]
    }
   ],
   "source": [
    "join -1 3 -2 1 -t $'\\t' <(sort -k3,3 A_header.txt) <(sort -k1,1 B_header.txt)"
   ]
  },
  {
   "cell_type": "markdown",
   "metadata": {},
   "source": [
    "Unfortunately, after sorting, the header went to the bottom of the file. Many times,\n",
    "the header may just go to the middle of the file.  We can always delete the header first,  \n",
    "join the file and then add the header back, but we will need to have intermediate files.  \n",
    "I will use [`body` function](https://github.com/jeroenjanssens/data-science-at-the-command-line/blob/master/tools/body) which will ignore the header."
   ]
  },
  {
   "cell_type": "code",
   "execution_count": 13,
   "metadata": {
    "collapsed": false
   },
   "outputs": [
    {
     "name": "stdout",
     "output_type": "stream",
     "text": [
      "id\tname\tstate\tsalary\r\n",
      "1\tTommy\tFL\t450\r\n",
      "2\tTammy\tFL\t300\r\n",
      "3\tJohn\tCA\t400\r\n",
      "5\tJack\tTX\t150\r\n"
     ]
    }
   ],
   "source": [
    "join -1 3 -2 1 -t $'\\t' <(cat A_header.txt | body sort -k3,3) <(cat B_header.txt | body sort -k1,1)"
   ]
  }
 ],
 "metadata": {
  "kernelspec": {
   "display_name": "Bash",
   "language": "bash",
   "name": "bash"
  },
  "language_info": {
   "codemirror_mode": "shell",
   "file_extension": ".sh",
   "mimetype": "text/x-sh",
   "name": "bash"
  }
 },
 "nbformat": 4,
 "nbformat_minor": 0
}
