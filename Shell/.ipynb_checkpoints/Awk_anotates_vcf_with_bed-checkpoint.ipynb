{
 "cells": [
  {
   "cell_type": "markdown",
   "metadata": {},
   "source": [
    "### Using Awk to join two files based on several columns\n",
    "I was reading a thread on stackoverflow and found this [post](http://stackoverflow.com/questions/13258604/join-two-files-using-awk) very interesting.\n",
    "I will go through the problem and the awk solution. Again, Awk is awesome!"
   ]
  },
  {
   "cell_type": "markdown",
   "metadata": {},
   "source": [
    "I created some dummy files.  \n",
    "file_a is a tab-delimited bed file with 5 colums:"
   ]
  },
  {
   "cell_type": "code",
   "execution_count": 1,
   "metadata": {
    "collapsed": false
   },
   "outputs": [
    {
     "name": "stdout",
     "output_type": "stream",
     "text": [
      "chr1\t123\taa\tb\tc\td\r\n",
      "chr1\t234\ta\tb\tc\td\r\n",
      "chr1\t345\taa\tb\tc\td\r\n",
      "chr1\t456\ta\tb\tc\td\r\n"
     ]
    }
   ],
   "source": [
    "cat file_a.bed"
   ]
  },
  {
   "cell_type": "markdown",
   "metadata": {},
   "source": [
    "file_b is the file that contain additional infomation, which we want to add to file_a:"
   ]
  },
  {
   "cell_type": "code",
   "execution_count": 2,
   "metadata": {
    "collapsed": false
   },
   "outputs": [
    {
     "name": "stdout",
     "output_type": "stream",
     "text": [
      "xxxx\tabcd\tchr1\t123\taa\tc\td\te\r\n",
      "yyyy\tdefg\tchr1\t345\taa\te\tf\tg\r\n"
     ]
    }
   ],
   "source": [
    "cat file_b.bed"
   ]
  },
  {
   "cell_type": "markdown",
   "metadata": {},
   "source": [
    "we want to annotate file_a based on the fact that columns 3,4,5 in file_b are the same as columns 1,2,3 in file_a.  \n",
    "To do this, we are going to use Awk associated array.\n",
    "see a [link](http://www.thegeekstuff.com/2010/03/awk-arrays-explained-with-5-practical-examples/)"
   ]
  },
  {
   "cell_type": "markdown",
   "metadata": {},
   "source": [
    "Let me execute the awk one-liner first and then explain what's going on here:"
   ]
  },
  {
   "cell_type": "code",
   "execution_count": 3,
   "metadata": {
    "collapsed": false
   },
   "outputs": [
    {
     "name": "stdout",
     "output_type": "stream",
     "text": [
      "chr1\t123\taa\tb\tc\txxxx\tabcd\r\n",
      "chr1\t234\ta\tb\tc\t\r\n",
      "chr1\t345\taa\tb\tc\tyyyy\tdefg\r\n",
      "chr1\t456\ta\tb\tc\t\r\n"
     ]
    }
   ],
   "source": [
    "awk 'NR==FNR{a[$3,$4,$5]=$1OFS$2;next}{$6=a[$1,$2,$3];print}' OFS='\\t' file_b.bed file_a.bed"
   ]
  },
  {
   "cell_type": "markdown",
   "metadata": {},
   "source": [
    "we annotated file_a using file_b. Aka, we added first two columns from file_b to file_a.  \n",
    "There are several things happening here:  \n",
    "we see built-in variables in awk: **NR** and **FNR**. NR is the line number of the current processing line.  \n",
    "when awk read in multiple files, awk NR variable will give the total number of records relative to **all** the input file. Awk FNR will give you number of records for **each** input file. see a link [here](http://www.thegeekstuff.com/2010/01/8-powerful-awk-built-in-variables-fs-ofs-rs-ors-nr-nf-filename-fnr/) for all the built-in variables in awk.  \n",
    "Let's deomonstrate the difference between NR and FNR:"
   ]
  },
  {
   "cell_type": "code",
   "execution_count": 5,
   "metadata": {
    "collapsed": false
   },
   "outputs": [
    {
     "name": "stdout",
     "output_type": "stream",
     "text": [
      "file_a.bed 1\r\n",
      "file_a.bed 2\r\n",
      "file_a.bed 3\r\n",
      "file_a.bed 4\r\n",
      "file_b.bed 5\r\n",
      "file_b.bed 6\r\n"
     ]
    }
   ],
   "source": [
    "awk '{print FILENAME, NR}' file_a.bed file_b.bed"
   ]
  },
  {
   "cell_type": "markdown",
   "metadata": {},
   "source": [
    "FILENAME is another built-in variable for the input file name of awk. There are 4 lines in file_a and 2 lines in file_b, and NR increments for the total lines.  \n",
    "compare with FNR:"
   ]
  },
  {
   "cell_type": "code",
   "execution_count": 6,
   "metadata": {
    "collapsed": false
   },
   "outputs": [
    {
     "name": "stdout",
     "output_type": "stream",
     "text": [
      "file_a.bed 1\r\n",
      "file_a.bed 2\r\n",
      "file_a.bed 3\r\n",
      "file_a.bed 4\r\n",
      "file_b.bed 1\r\n",
      "file_b.bed 2\r\n"
     ]
    }
   ],
   "source": [
    "awk '{print FILENAME, FNR}' file_a.bed file_b.bed"
   ]
  },
  {
   "cell_type": "markdown",
   "metadata": {},
   "source": [
    "Now, awk prints out the line numbers in respect to each file."
   ]
  },
  {
   "cell_type": "markdown",
   "metadata": {},
   "source": [
    "From the awk code, we are reading file_b first. **NR==FNR** means when NR equals to FNR (this is true only for file_b) do the following: `{a[$3,$4,$5]=$1OFS$2;next}`. We **created an associated array** named **a** using columns 3,4,5 in file_b as keys and the columns 1 and 2: `$1\"\\t\"$2` as values. we set OFS=\"\\t\" in the end of the command.\n",
    "**next** means to proceed for the next line, rather than execute the following { } code block."
   ]
  },
  {
   "cell_type": "markdown",
   "metadata": {},
   "source": [
    "when awk reads in the second file (file_a.bed), NR==FNR is not true, awk exectues the second { } code block:\n",
    "`{$6=a[$1,$2,$3];print}`  \n",
    "we look up the associated array *a* we created from file_b.bed using the first three columns in file_a.bed as keys, and assign column 6 to the looked-up values and print it out the whole line."
   ]
  },
  {
   "cell_type": "markdown",
   "metadata": {},
   "source": [
    "Conclusion: Awk is very powerful in text wrangling. Once get used to the syntax, you can do fairly complicated formatting in an awk one-liner. I strongly recommand you to learn it."
   ]
  }
 ],
 "metadata": {
  "kernelspec": {
   "display_name": "Bash",
   "language": "bash",
   "name": "bash"
  },
  "language_info": {
   "codemirror_mode": "shell",
   "file_extension": ".sh",
   "mimetype": "text/x-sh",
   "name": "bash"
  }
 },
 "nbformat": 4,
 "nbformat_minor": 0
}
