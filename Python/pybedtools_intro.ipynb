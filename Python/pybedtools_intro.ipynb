{
 "cells": [
  {
   "cell_type": "markdown",
   "metadata": {},
   "source": [
    "### This notebook is to get myself to be familair with the pybedtools\n",
    "import the pybedtools module "
   ]
  },
  {
   "cell_type": "code",
   "execution_count": 4,
   "metadata": {
    "collapsed": false
   },
   "outputs": [],
   "source": [
    "import pybedtools\n",
    "import sys\n",
    "import os"
   ]
  },
  {
   "cell_type": "markdown",
   "metadata": {},
   "source": [
    "get the working directory and you can change to the directory you want by os.chdir(path)\n",
    "list all the files in the directory os.listdir(path)"
   ]
  },
  {
   "cell_type": "code",
   "execution_count": 6,
   "metadata": {
    "collapsed": false
   },
   "outputs": [],
   "source": [
    "os.getcwd()\n",
    "# use a pre-shipped bed file as an example\n",
    "a = pybedtools.example_bedtool('a.bed')"
   ]
  },
  {
   "cell_type": "markdown",
   "metadata": {},
   "source": [
    "a is a bedtool object, one can acess the object by index"
   ]
  },
  {
   "cell_type": "code",
   "execution_count": 15,
   "metadata": {
    "collapsed": false
   },
   "outputs": [
    {
     "name": "stdout",
     "output_type": "stream",
     "text": [
      "chr1\t1\t100\tfeature1\t0\t+\n",
      "\n",
      "chr1\t100\t200\tfeature2\t0\t+\n",
      "\n"
     ]
    }
   ],
   "source": [
    "print a[0]\n",
    "print a[1]\n",
    "feature = a[1]"
   ]
  },
  {
   "cell_type": "markdown",
   "metadata": {},
   "source": [
    "see what type of the interval is by Interval.file_type\n",
    "All features, no matter what the file type, have chrom, start, stop, name, score, and strand attributes. Note that start and stop are long integers, while everything else (including score) is a string."
   ]
  },
  {
   "cell_type": "code",
   "execution_count": 22,
   "metadata": {
    "collapsed": false
   },
   "outputs": [
    {
     "name": "stdout",
     "output_type": "stream",
     "text": [
      "bed\n",
      "chr1\t100\t200\tfeature2\t0\t+\n",
      "\n",
      "chr1\n",
      "100\n",
      "200\n",
      "feature2\n",
      "0\n",
      "+\n",
      "['chr1', '100', '200', 'feature2', '0', '+']\n"
     ]
    }
   ],
   "source": [
    "print feature.file_type\n",
    "print feature\n",
    "print feature.chrom\n",
    "print feature.start\n",
    "print feature.stop\n",
    "print feature.name\n",
    "print feature.score\n",
    "print feature.strand\n",
    "print feature.fields"
   ]
  },
  {
   "cell_type": "markdown",
   "metadata": {},
   "source": [
    "interval can also be accessed by index or like a dictionary"
   ]
  },
  {
   "cell_type": "code",
   "execution_count": 25,
   "metadata": {
    "collapsed": false
   },
   "outputs": [
    {
     "name": "stdout",
     "output_type": "stream",
     "text": [
      "chr1\n",
      "chr1\n",
      "100\n",
      "100\n"
     ]
    }
   ],
   "source": [
    "print feature[0]\n",
    "print feature[\"chrom\"]\n",
    "print feature[1]\n",
    "print feature[\"start\"]"
   ]
  },
  {
   "cell_type": "code",
   "execution_count": 13,
   "metadata": {
    "collapsed": false
   },
   "outputs": [
    {
     "name": "stdout",
     "output_type": "stream",
     "text": [
      "<itertools.islice object at 0x10d42b418>\n"
     ]
    }
   ],
   "source": [
    "print a[1:4]"
   ]
  },
  {
   "cell_type": "markdown",
   "metadata": {},
   "source": [
    "slice get an itertools object that can be interated "
   ]
  },
  {
   "cell_type": "code",
   "execution_count": 14,
   "metadata": {
    "collapsed": false
   },
   "outputs": [
    {
     "name": "stdout",
     "output_type": "stream",
     "text": [
      "chr1\t100\t200\tfeature2\t0\t+\n",
      "\n",
      "chr1\t150\t500\tfeature3\t0\t-\n",
      "\n",
      "chr1\t900\t950\tfeature4\t0\t+\n",
      "\n"
     ]
    }
   ],
   "source": [
    "for interval in a[1:4]:\n",
    "    print interval"
   ]
  },
  {
   "cell_type": "markdown",
   "metadata": {},
   "source": [
    "for each interval, one can access the chr,star, end by "
   ]
  },
  {
   "cell_type": "code",
   "execution_count": 20,
   "metadata": {
    "collapsed": false
   },
   "outputs": [
    {
     "name": "stdout",
     "output_type": "stream",
     "text": [
      "chr1\n",
      "chr1\n",
      "chr1\n"
     ]
    }
   ],
   "source": [
    "for interval in a[1:4]:\n",
    "    print interval.chrom"
   ]
  },
  {
   "cell_type": "markdown",
   "metadata": {},
   "source": [
    "Let's do some intersection for 2 bed files"
   ]
  },
  {
   "cell_type": "code",
   "execution_count": 34,
   "metadata": {
    "collapsed": true
   },
   "outputs": [],
   "source": [
    "a = pybedtools.example_bedtool('a.bed')\n",
    "b = pybedtools.example_bedtool('b.bed')"
   ]
  },
  {
   "cell_type": "code",
   "execution_count": 46,
   "metadata": {
    "collapsed": false
   },
   "outputs": [
    {
     "name": "stdout",
     "output_type": "stream",
     "text": [
      "chr1\t1\t100\tfeature1\t0\t+\n",
      " chr1\t100\t200\tfeature2\t0\t+\n",
      " chr1\t150\t500\tfeature3\t0\t-\n",
      " chr1\t900\t950\tfeature4\t0\t+\n",
      " None\n",
      "chr1\t155\t200\tfeature5\t0\t-\n",
      " chr1\t800\t901\tfeature6\t0\t+\n",
      " None\n"
     ]
    }
   ],
   "source": [
    "print a.head() # print out only the first 10 lines if you have big bed file\n",
    "print b.head()"
   ]
  },
  {
   "cell_type": "markdown",
   "metadata": {},
   "source": [
    "use the Bedtools.intersect() method "
   ]
  },
  {
   "cell_type": "code",
   "execution_count": 51,
   "metadata": {
    "collapsed": true
   },
   "outputs": [],
   "source": [
    "a_and_b = a.intersect(b)"
   ]
  },
  {
   "cell_type": "code",
   "execution_count": 43,
   "metadata": {
    "collapsed": false
   },
   "outputs": [
    {
     "name": "stdout",
     "output_type": "stream",
     "text": [
      "chr1\t155\t200\tfeature2\t0\t+\n",
      " chr1\t155\t200\tfeature3\t0\t-\n",
      " chr1\t900\t901\tfeature4\t0\t+\n",
      "\n"
     ]
    }
   ],
   "source": [
    "a_and_b.head()"
   ]
  },
  {
   "cell_type": "markdown",
   "metadata": {},
   "source": [
    "one can add flags to the intersect call just as the command line intersectbed \n",
    "\n",
    "-wa Write the original entry in A for each overlap. may have duplicated entries from A\n",
    "\n",
    "-u Write original A entry **once** if any overlaps found in B. In other words, just report the fact at least one overlap was found in B.  \n",
    "The following toy example returns the same result for -u and -wa flag. "
   ]
  },
  {
   "cell_type": "markdown",
   "metadata": {},
   "source": [
    "a.intersect(b, wa=True).head()"
   ]
  },
  {
   "cell_type": "code",
   "execution_count": 49,
   "metadata": {
    "collapsed": false
   },
   "outputs": [
    {
     "name": "stdout",
     "output_type": "stream",
     "text": [
      "chr1\t100\t200\tfeature2\t0\t+\n",
      " chr1\t150\t500\tfeature3\t0\t-\n",
      " chr1\t900\t950\tfeature4\t0\t+\n",
      "\n"
     ]
    }
   ],
   "source": [
    "a.intersect(b, u=True).head()"
   ]
  },
  {
   "cell_type": "markdown",
   "metadata": {},
   "source": [
    "### saving files\n",
    "save the Bedtool object to a file, you can add a trackline."
   ]
  },
  {
   "cell_type": "code",
   "execution_count": 53,
   "metadata": {
    "collapsed": false
   },
   "outputs": [],
   "source": [
    "c = a_and_b.saveas('intersection-of-a-and-b.bed', trackline='track name=\"a and b\"')"
   ]
  },
  {
   "cell_type": "code",
   "execution_count": 58,
   "metadata": {
    "collapsed": false
   },
   "outputs": [
    {
     "name": "stdout",
     "output_type": "stream",
     "text": [
      "track name=\"a and b\"\n",
      "chr1\t155\t200\tfeature2\t0\t+\n",
      "chr1\t155\t200\tfeature3\t0\t-\n",
      "chr1\t900\t901\tfeature4\t0\t+\n",
      "\n"
     ]
    }
   ],
   "source": [
    "os.listdir(\".\")\n",
    "print c"
   ]
  },
  {
   "cell_type": "markdown",
   "metadata": {},
   "source": [
    "one can chain the methods of pybedtools just like the pipe in the command line.  \n",
    "The following intersect a with b first, and save the intersection in a file.\n",
    "because the intersect() method returns a Bedtool object, it can be chained using .merge()\n",
    "method and finally saved the mearged bed file\n"
   ]
  },
  {
   "cell_type": "code",
   "execution_count": 59,
   "metadata": {
    "collapsed": true
   },
   "outputs": [],
   "source": [
    " x4 = a\\\n",
    "    .intersect(b, u=True)\\\n",
    "    .saveas('a-with-b.bed')\\\n",
    "    .merge()\\\n",
    "    .saveas('a-with-b-merged.bed')"
   ]
  },
  {
   "cell_type": "markdown",
   "metadata": {},
   "source": [
    "### demonstrate the filter method \n",
    "grep out only the intervals with length bigger than 100"
   ]
  },
  {
   "cell_type": "code",
   "execution_count": 64,
   "metadata": {
    "collapsed": false
   },
   "outputs": [
    {
     "name": "stdout",
     "output_type": "stream",
     "text": [
      "chr1\t1\t100\tfeature1\t0\t+\n",
      "chr1\t100\t200\tfeature2\t0\t+\n",
      "chr1\t150\t500\tfeature3\t0\t-\n",
      "chr1\t900\t950\tfeature4\t0\t+\n",
      "\n",
      "99\n",
      "100\n",
      "350\n",
      "50\n"
     ]
    }
   ],
   "source": [
    "print a\n",
    "for interval in a:\n",
    "    print len(interval)"
   ]
  },
  {
   "cell_type": "markdown",
   "metadata": {},
   "source": [
    "Let's use filter to extract the intervals with length >100"
   ]
  },
  {
   "cell_type": "code",
   "execution_count": 63,
   "metadata": {
    "collapsed": false
   },
   "outputs": [
    {
     "name": "stdout",
     "output_type": "stream",
     "text": [
      "chr1\t150\t500\tfeature3\t0\t-\n",
      "\n"
     ]
    }
   ],
   "source": [
    "print a.filter(lambda x: len(x) >100)"
   ]
  },
  {
   "cell_type": "markdown",
   "metadata": {},
   "source": [
    "Or, use a more generic function "
   ]
  },
  {
   "cell_type": "code",
   "execution_count": 65,
   "metadata": {
    "collapsed": true
   },
   "outputs": [],
   "source": [
    "def len_filter(feature, L):\n",
    "    return len(feature) > L"
   ]
  },
  {
   "cell_type": "markdown",
   "metadata": {},
   "source": [
    "Then call this function inside the filter method:"
   ]
  },
  {
   "cell_type": "code",
   "execution_count": 67,
   "metadata": {
    "collapsed": false
   },
   "outputs": [
    {
     "name": "stdout",
     "output_type": "stream",
     "text": [
      "chr1\t150\t500\tfeature3\t0\t-\n",
      "\n"
     ]
    }
   ],
   "source": [
    "print a.filter(len_filter, 100)"
   ]
  },
  {
   "cell_type": "markdown",
   "metadata": {},
   "source": [
    "we got the same results as using the lambda. Using len_filter function is more flexiabl, as you can supply any length that you want to filter."
   ]
  },
  {
   "cell_type": "markdown",
   "metadata": {},
   "source": [
    "### demonstrate the each() method\n",
    "each() method can apply a function for each interval in the BedTool object.  \n",
    "It is similar to the apply functions in R\n",
    "Let's add counts of how many hits in b intersect a"
   ]
  },
  {
   "cell_type": "code",
   "execution_count": 70,
   "metadata": {
    "collapsed": false
   },
   "outputs": [
    {
     "name": "stdout",
     "output_type": "stream",
     "text": [
      "chr1\t1\t100\tfeature1\t0\t+\t0\n",
      "chr1\t100\t200\tfeature2\t0\t+\t1\n",
      "chr1\t150\t500\tfeature3\t0\t-\t1\n",
      "chr1\t900\t950\tfeature4\t0\t+\t1\n",
      "\n"
     ]
    }
   ],
   "source": [
    "with_count = a.intersect(b, c=True)\n",
    "print with_count"
   ]
  },
  {
   "cell_type": "markdown",
   "metadata": {},
   "source": [
    "Normalize the counts by dividing the length of the interval.use a scalar of 0.001 to normalize it to\n",
    "counts per 1kb"
   ]
  },
  {
   "cell_type": "code",
   "execution_count": 74,
   "metadata": {
    "collapsed": true
   },
   "outputs": [],
   "source": [
    "def normalize_count(feature, scalar=0.001):\n",
    "    count = float(feature[-1])\n",
    "    normalized_count = count/len(feature) * scalar\n",
    "    ## write the score back, need to turn it to a string first\n",
    "    feature.score = str(normalized_count)\n",
    "    return feature"
   ]
  },
  {
   "cell_type": "code",
   "execution_count": 75,
   "metadata": {
    "collapsed": false
   },
   "outputs": [
    {
     "name": "stdout",
     "output_type": "stream",
     "text": [
      "chr1\t1\t100\tfeature1\t0.0\t+\t0\n",
      "chr1\t100\t200\tfeature2\t1e-05\t+\t1\n",
      "chr1\t150\t500\tfeature3\t2.85714285714e-06\t-\t1\n",
      "chr1\t900\t950\tfeature4\t2e-05\t+\t1\n",
      "\n"
     ]
    }
   ],
   "source": [
    "print with_count.each(normalize_count)"
   ]
  },
  {
   "cell_type": "code",
   "execution_count": null,
   "metadata": {
    "collapsed": true
   },
   "outputs": [],
   "source": []
  }
 ],
 "metadata": {
  "kernelspec": {
   "display_name": "Python 2",
   "language": "python",
   "name": "python2"
  },
  "language_info": {
   "codemirror_mode": {
    "name": "ipython",
    "version": 2
   },
   "file_extension": ".py",
   "mimetype": "text/x-python",
   "name": "python",
   "nbconvert_exporter": "python",
   "pygments_lexer": "ipython2",
   "version": "2.7.8"
  }
 },
 "nbformat": 4,
 "nbformat_minor": 0
}
